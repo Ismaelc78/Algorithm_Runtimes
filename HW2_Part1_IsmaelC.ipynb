{
 "cells": [
  {
   "cell_type": "code",
   "execution_count": 104,
   "id": "74e7b8e3",
   "metadata": {},
   "outputs": [
    {
     "name": "stderr",
     "output_type": "stream",
     "text": [
      "C:\\Users\\ismae\\AppData\\Local\\Temp\\ipykernel_12488\\1373836194.py:23: ComplexWarning: Casting complex values to real discards the imaginary part\n",
      "  n_lg_n = int(numpy.floor(e ** float(scipy.special.lambertw(nn))))\n"
     ]
    }
   ],
   "source": [
    "import numpy \n",
    "import scipy\n",
    "import copy\n",
    "from tabulate import tabulate\n",
    "import webbrowser\n",
    "\n",
    "def reverseFact(n):\n",
    "    \n",
    "    remainder = n\n",
    "    factorial = 2\n",
    "    while (remainder > 1):\n",
    "        remainder = remainder / factorial\n",
    "        factorial += 1\n",
    "    return factorial    \n",
    "    \n",
    "def n_in_oneSec(list2d):\n",
    "    \n",
    "    e =  2.718281\n",
    "    n = 1/.000001\n",
    "    n_sqrt = \"{:.1e}\".format(n**2)\n",
    "    lg_n = \"2e+({})\".format(\"{:.2e}\".format(n))\n",
    "    nn = n * numpy.log(2)\n",
    "    n_lg_n = int(numpy.floor(e ** float(scipy.special.lambertw(nn))))\n",
    "    n_Sqrd = numpy.sqrt(n)\n",
    "    n_Cubed = round(n ** (1/3))\n",
    "    two_n =  numpy.floor(numpy.log2(1000000))\n",
    "    n_fact = reverseFact(n)\n",
    "    \n",
    "    calcs = [2, n_sqrt, \"{:.3e}\".format(n), n_lg_n, n_Sqrd, n_Cubed, two_n, n_fact]\n",
    "    for i in range(1,8):\n",
    "        list2d[i+1][1] = calcs[i]\n",
    "        for j in range(2,8):\n",
    "            list2d[i+1][j] = \"{:.3e}\".format(float(list2d[i+1][j-1]) * float(list2d[i+1][j]))\n",
    "            \n",
    "    list2d[1][1] = calcs[0]\n",
    "    for i in range (2,8):\n",
    "        list2d[1][i] = \"{:.0e}\".format(float(list2d[1][i-1]) * float(list2d[i][j]))\n",
    "    for i in range (1,8):\n",
    "        list2d[1][i] =\"{}(x10^6)\".format(list2d[1][i])\n",
    "    return list2d\n",
    "    \n",
    "def createList():\n",
    "    \n",
    "    rows, cols = (9, 8)\n",
    "    runTime_list = [[\"\", \"1 sec\", \"1 min\", \"1 hr\", \"1 day\", \"1 month\", \"1 year\", \"1 century\"]]\n",
    "    multiple = [\"\", 1, 60, 60, 24, 30, 12.167, 100 ]\n",
    "    funcs = [ \"\", \"lg n\", \"sqrt_n\", \"n\", \"nlogn\", \"n^2\", \"n^3\", \"2^n\", \"n!\"]\n",
    "\n",
    "    for i in range(1,9):\n",
    "        multiple[0] = funcs[i]\n",
    "        runTime_list.append(copy.deepcopy(multiple))\n",
    "    return runTime_list\n",
    "\n",
    "def htmlTable(list2d):\n",
    "    \n",
    "    \n",
    "    table = tabulate(runTime_list, headers = \"firstrow\", tablefmt = 'html')\n",
    "    style = (\"<style>table {border-collapse: collapse;}\"+ \n",
    "            \"th,td {padding: 8px;text-align: left;border: 2px solid black;}\"+\n",
    "            \"th{ background-color: #0099FF ; color: white; border-bottom: 3px solid black;}\" +\n",
    "            \"tr:nth-child(even){background-color:#CFD8DC ;}\"+ \n",
    "            \"{</style>\")\n",
    "    text = '''<html><head>{}</head><body>{}</body></html>'''.format(style,table)\n",
    "    file = open(\"dataSet.html\",\"w\")\n",
    "    file.write(text)\n",
    "    file.close()\n",
    "    webbrowser.open(\"dataSet.html\")\n",
    "    \n",
    "def main():\n",
    "    runTime_list = createList()\n",
    "    runTime_list = n_in_oneSec(runTime_list)\n",
    "    htmlTable(runTime_list)\n",
    "    \n",
    "main()\n",
    "    "
   ]
  },
  {
   "cell_type": "code",
   "execution_count": null,
   "id": "705454ee",
   "metadata": {},
   "outputs": [],
   "source": []
  }
 ],
 "metadata": {
  "kernelspec": {
   "display_name": "Python 3 (ipykernel)",
   "language": "python",
   "name": "python3"
  },
  "language_info": {
   "codemirror_mode": {
    "name": "ipython",
    "version": 3
   },
   "file_extension": ".py",
   "mimetype": "text/x-python",
   "name": "python",
   "nbconvert_exporter": "python",
   "pygments_lexer": "ipython3",
   "version": "3.10.6"
  },
  "vscode": {
   "interpreter": {
    "hash": "be539e611fffc7ccb9bf2ea2858ab67d757a23ad958155b2a24cde90303e301d"
   }
  }
 },
 "nbformat": 4,
 "nbformat_minor": 5
}
